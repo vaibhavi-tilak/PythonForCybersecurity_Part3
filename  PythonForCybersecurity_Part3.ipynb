{
 "cells": [
  {
   "cell_type": "code",
   "execution_count": 7,
   "id": "5df41d7c",
   "metadata": {},
   "outputs": [
    {
     "name": "stdout",
     "output_type": "stream",
     "text": [
      "Extracted & Validated IP Addresses:\n",
      "10.0.0.25\n",
      "10.0.1.100\n",
      "10.10.10.10\n",
      "172.16.22.11\n",
      "172.16.45.30\n",
      "172.16.5.8\n",
      "192.168.1.1\n",
      "192.168.2.15\n",
      "192.168.3.50\n",
      "192.168.4.5\n",
      "198.51.100.25\n",
      "198.51.100.7\n",
      "203.0.113.10\n",
      "203.0.113.200\n",
      "203.0.113.5\n"
     ]
    }
   ],
   "source": [
    "import re\n",
    "import ipaddress\n",
    "def extract_ip_addresses(log_data):\n",
    "    # Regex pattern to match IPv4 addresses\n",
    "    ip_pattern = r'\\b(?:[0-9]{1,3}\\.){3}[0-9]{1,3}\\b'\n",
    "    ip_addresses = re.findall(ip_pattern, log_data)\n",
    "    return ip_addresses\n",
    "def validate_ip(ip_addresses):\n",
    "    # Validate each IP using the ipaddress library for 100% correctness\n",
    "    valid_ips = []\n",
    "    for ip in ip_addresses:\n",
    "        try:\n",
    "            ipaddress.IPv4Address(ip)  # Raises ValueError if invalid\n",
    "            valid_ips.append(ip)\n",
    "        except ValueError:\n",
    "            continue\n",
    "    return valid_ips\n",
    "# Read the log file\n",
    "with open(\"Logfile.txt\", \"r\") as file:\n",
    "    log_data = file.read()\n",
    "# Extract IPs\n",
    "raw_ips = extract_ip_addresses(log_data)\n",
    "# Validate IPs\n",
    "valid_ips = validate_ip(raw_ips)\n",
    "# Display the result\n",
    "print(\"Extracted & Validated IP Addresses:\")\n",
    "for ip in sorted(set(valid_ips)):\n",
    "    print(ip)"
   ]
  },
  {
   "cell_type": "code",
   "execution_count": 8,
   "id": "36d5d452",
   "metadata": {},
   "outputs": [],
   "source": [
    "# Python Code to Detect PII\n",
    "\n",
    "\n",
    "import re\n",
    "\n",
    "def detect_pii(code_text):\n",
    "    patterns = {\n",
    "        \"Email\": r'[a-zA-Z0-9._%+-]+@[a-zA-Z0-9.-]+\\.[a-zA-Z]{2,}',\n",
    "        \"Phone Number\": r'\\(?\\d{3}\\)?[-.\\s]?\\d{3}[-.\\s]?\\d{4}',\n",
    "        \"SSN\": r'\\b\\d{3}-\\d{2}-\\d{4}\\b'\n",
    "    }\n",
    "    \n",
    "    pii_found = {}\n",
    "    for key, pattern in patterns.items():\n",
    "        matches = re.findall(pattern, code_text)\n",
    "        if matches:\n",
    "            pii_found[key] = matches\n",
    "    \n",
    "    return pii_found\n"
   ]
  },
  {
   "cell_type": "code",
   "execution_count": null,
   "id": "f792fa3d",
   "metadata": {},
   "outputs": [],
   "source": []
  },
  {
   "cell_type": "code",
   "execution_count": null,
   "id": "35e9f600",
   "metadata": {},
   "outputs": [],
   "source": []
  }
 ],
 "metadata": {
  "kernelspec": {
   "display_name": "Python 3 (ipykernel)",
   "language": "python",
   "name": "python3"
  },
  "language_info": {
   "codemirror_mode": {
    "name": "ipython",
    "version": 3
   },
   "file_extension": ".py",
   "mimetype": "text/x-python",
   "name": "python",
   "nbconvert_exporter": "python",
   "pygments_lexer": "ipython3",
   "version": "3.11.5"
  }
 },
 "nbformat": 4,
 "nbformat_minor": 5
}
